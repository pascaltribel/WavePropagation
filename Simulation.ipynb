{
 "cells": [
  {
   "cell_type": "code",
   "execution_count": 33,
   "id": "c27d8139",
   "metadata": {},
   "outputs": [],
   "source": [
    "from pde import CartesianGrid, WavePDE, ScalarField, MemoryStorage, movie, FieldCollection, DataTracker\n",
    "from pde.pdes.base import expr_prod\n",
    "import matplotlib.pyplot as plt\n",
    "import numpy as np\n",
    "import numba as nb\n",
    "from numba import jit\n",
    "from IPython.display import Video"
   ]
  },
  {
   "cell_type": "code",
   "execution_count": 34,
   "id": "d4dc9338",
   "metadata": {},
   "outputs": [],
   "source": [
    "NX = 64"
   ]
  },
  {
   "cell_type": "code",
   "execution_count": 52,
   "id": "d0175a35",
   "metadata": {},
   "outputs": [],
   "source": [
    "def generate_matrix(NX, SPEED):\n",
    "    matrix = np.full((NX, NX), SPEED)  # Initialize the matrix with all values set to SPEED\n",
    "\n",
    "    # Calculate the center and side length of the square\n",
    "    center = NX // 2\n",
    "    side_length = NX // 2\n",
    "\n",
    "    # Define the coordinates for the square\n",
    "    start_row, end_row = center - side_length // 2, center + side_length // 2 + 1\n",
    "    start_col, end_col = center - side_length // 2, center + side_length // 2 + 1\n",
    "\n",
    "    # Set the square and center of each side to SPEED\n",
    "    matrix[center - side_length // 2:1+center - side_length // 2, start_col:end_col] = 0\n",
    "    matrix[center + side_length // 2:1+center + side_length // 2, start_col:end_col] = 0\n",
    "    matrix[start_row:end_row, center - side_length // 2:1+center - side_length // 2] = 0\n",
    "    matrix[start_row:end_row, center + side_length // 2:1+center + side_length // 2] = 0\n",
    "    \n",
    "    matrix[center:, center] = SPEED\n",
    "    return matrix\n",
    "\n",
    "SPEED = 0.05\n",
    "speed = generate_matrix(NX, SPEED)"
   ]
  },
  {
   "cell_type": "code",
   "execution_count": 53,
   "id": "30c959a6",
   "metadata": {},
   "outputs": [
    {
     "data": {
      "image/png": "[encoded data removed]",
      "text/plain": [
       "<Figure size 640x480 with 1 Axes>"
      ]
     },
     "metadata": {},
     "output_type": "display_data"
    }
   ],
   "source": [
    "grid = CartesianGrid([[0, 10], [0, 10]], [NX, NX], periodic=[True, True])\n",
    "\n",
    "initial_density = ScalarField(grid)\n",
    "initial_density.insert([5, 8], 1)\n",
    "\n",
    "bc = None# [[{\"\": 0}, {\"derivative\": 0}], [{\"derivative\": 0}, {\"derivative\": 0}]]\n",
    "\n",
    "plt.imshow(speed, vmin=0, vmax=SPEED, cmap=\"viridis\", origin=\"lower\")\n",
    "plt.show()\n",
    "\n",
    "eq = WavePDE(speed.T)\n",
    "initial_condition = eq.get_initial_condition(initial_density)"
   ]
  },
  {
   "cell_type": "code",
   "execution_count": 54,
   "id": "d0da730b",
   "metadata": {},
   "outputs": [
    {
     "data": {
      "application/vnd.jupyter.widget-view+json": {
       "model_id": "ccba6d21c5634253aba1e69ca8da620f",
       "version_major": 2,
       "version_minor": 0
      },
      "text/plain": [
       "  0%|          | 0/100.0 [00:00<?, ?it/s]"
      ]
     },
     "metadata": {},
     "output_type": "display_data"
    }
   ],
   "source": [
    "dt = 0.01\n",
    "seconds = 1\n",
    "\n",
    "storage = MemoryStorage()\n",
    "result = eq.solve(initial_condition, t_range=seconds/dt, dt=dt, tracker=[\"progress\", storage.tracker(1, transformation=lambda x: x[\"u\"])])\n",
    "#result.plot()\n",
    "movie(storage, filename=\"test.mp4\", progress=False, show_time=True, plot_args={\"vmin\":np.min(result.data), \"vmax\":np.max(result.data), \"cmap\": \"viridis\"}, movie_args={\"dpi\":300})\n",
    "#plt.show()"
   ]
  },
  {
   "cell_type": "code",
   "execution_count": 55,
   "id": "89c38ae9",
   "metadata": {},
   "outputs": [
    {
     "data": {
      "text/html": [
       "<video width=\"640\" controls>\n",
       "  <source src=\"test.mp4\" type=\"video/mp4\">\n",
       "</video>\n"
      ],
      "text/plain": [
       "<IPython.core.display.HTML object>"
      ]
     },
     "metadata": {},
     "output_type": "display_data"
    }
   ],
   "source": [
    "%%HTML\n",
    "<video width=\"640\" controls>\n",
    "  <source src=\"test.mp4\" type=\"video/mp4\">\n",
    "</video>"
   ]
  },
  {
   "cell_type": "code",
   "execution_count": null,
   "id": "1676a25f-85f5-49c4-a322-1321eed5c6b5",
   "metadata": {},
   "outputs": [],
   "source": []
  }
 ],
 "metadata": {
  "kernelspec": {
   "display_name": "Python 3 (ipykernel)",
   "language": "python",
   "name": "python3"
  },
  "language_info": {
   "codemirror_mode": {
    "name": "ipython",
    "version": 3
   },
   "file_extension": ".py",
   "mimetype": "text/x-python",
   "name": "python",
   "nbconvert_exporter": "python",
   "pygments_lexer": "ipython3",
   "version": "3.11.6"
  }
 },
 "nbformat": 4,
 "nbformat_minor": 5
}
