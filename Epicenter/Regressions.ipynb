{
 "cells": [
  {
   "cell_type": "markdown",
   "id": "d040b1e6-5298-4575-bdc0-623234255309",
   "metadata": {},
   "source": [
    "# Epicenter computation"
   ]
  },
  {
   "cell_type": "code",
   "execution_count": null,
   "id": "c94f8006-1052-4314-a1b5-42bec15e8fd2",
   "metadata": {},
   "outputs": [],
   "source": [
    "from PyAWD.AcousticWaveDataset import *\n",
    "import numpy as np\n",
    "import sklearn\n",
    "from sklearn.preprocessing import PolynomialFeatures\n",
    "from sklearn.linear_model import LinearRegression\n",
    "from sklearn.decomposition import PCA\n",
    "import matplotlib.pyplot as plt\n",
    "from tqdm.auto import tqdm\n",
    "import seaborn as sns\n",
    "sns.set_theme()"
   ]
  },
  {
   "cell_type": "code",
   "execution_count": null,
   "id": "3f30c567-294f-4bba-9b2c-954e38837767",
   "metadata": {},
   "outputs": [],
   "source": [
    "train = torch.load(\"../../local/datasets/AWD/train_small.pt\")\n",
    "X = [train[i][1].flatten() for i in range(train.size)]\n",
    "Y = [train[i][0][0] for i in range(train.size)]"
   ]
  },
  {
   "cell_type": "code",
   "execution_count": null,
   "id": "3044fab8-54da-49a7-8e3e-c0664a7168e9",
   "metadata": {},
   "outputs": [],
   "source": [
    "test = torch.load(\"../../local/datasets/AWD/test_small.pt\")\n",
    "X_test = np.array([test[i][1].flatten() for i in range(test.size)])\n",
    "Y_test = np.array([test[i][0][0] for i in range(test.size)])"
   ]
  },
  {
   "cell_type": "markdown",
   "id": "394f2952-9a62-4e03-9e59-293c6d40fd21",
   "metadata": {},
   "source": [
    "## Data presentation"
   ]
  },
  {
   "cell_type": "markdown",
   "id": "b1630dc8-4784-42ae-b122-ec997860052e",
   "metadata": {},
   "source": [
    "We work with pairs of data under the form:\n",
    "- Epicenter $(x, y)$\n",
    "- Wave mesured every $2$ seconds for $10$ seconds.\n",
    "\n",
    "As an example, sample $0$ starts at this epicenter:"
   ]
  },
  {
   "cell_type": "code",
   "execution_count": null,
   "id": "a736d751-120a-4e49-a079-6d1b1402f9d2",
   "metadata": {},
   "outputs": [],
   "source": [
    "print(\"Epicenter:\", train[0][0])"
   ]
  },
  {
   "cell_type": "markdown",
   "id": "792d7811-532e-4734-81f2-e47ff8a26285",
   "metadata": {},
   "source": [
    "and yields this propagation measurement:"
   ]
  },
  {
   "cell_type": "code",
   "execution_count": null,
   "id": "af8007d3-4eac-4f93-b35d-362934a5b76d",
   "metadata": {},
   "outputs": [],
   "source": [
    "train.plot_item(0)"
   ]
  },
  {
   "cell_type": "markdown",
   "id": "80688300-8f61-4080-9b1a-4ba361217f61",
   "metadata": {},
   "source": [
    "## Linear regression"
   ]
  },
  {
   "cell_type": "code",
   "execution_count": null,
   "id": "9ea4af29-644d-4e37-96c1-0512e4a93658",
   "metadata": {},
   "outputs": [],
   "source": [
    "linear = LinearRegression().fit(X, Y)\n",
    "Y_hat = linear.predict(X_test)\n",
    "print(\"Normalized MAE:\", (np.mean(np.abs(Y_test-Y_hat))/((test.nx//2)*test.sx)))"
   ]
  },
  {
   "cell_type": "markdown",
   "id": "7e11e6d5-634b-4faa-944a-70d8e964d8c8",
   "metadata": {},
   "source": [
    "## Principal Components Analysis"
   ]
  },
  {
   "cell_type": "code",
   "execution_count": null,
   "id": "691c9709-a68b-41f7-a90f-c7a9c5627c22",
   "metadata": {},
   "outputs": [],
   "source": [
    "pca = PCA(n_components=125)\n",
    "pca_model = pca.fit(X)"
   ]
  },
  {
   "cell_type": "markdown",
   "id": "7938795c-4121-40d8-a6d7-173f9ae54a19",
   "metadata": {},
   "source": [
    "### Linear regression on PCA"
   ]
  },
  {
   "cell_type": "code",
   "execution_count": null,
   "id": "b62fc5d2-7f5d-4e3a-8278-70cda21eda93",
   "metadata": {},
   "outputs": [],
   "source": [
    "linear_pca = LinearRegression().fit(pca_model.transform(X), Y)\n",
    "Y_hat = linear_pca.predict(pca_model.transform(X_test))\n",
    "print(\"Normalized MAE:\", (np.mean(np.abs(Y_test-Y_hat))/((test.nx//2)*test.sx)))"
   ]
  },
  {
   "cell_type": "markdown",
   "id": "130ed1c4-4547-4eff-980a-7f7a71a1bdbf",
   "metadata": {},
   "source": [
    "### Polynomial regression on PCA"
   ]
  },
  {
   "cell_type": "code",
   "execution_count": null,
   "id": "a1453d1b-c2b5-4996-82de-b24e715f91ae",
   "metadata": {},
   "outputs": [],
   "source": [
    "polynomial = PolynomialFeatures(degree=2)\n",
    "feat_poly = polynomial.fit_transform(pca_model.transform(X))\n",
    "poly_pca = LinearRegression().fit(feat_poly, Y)\n",
    "feat_poly_test = polynomial.fit_transform(pca_model.transform(X_test))\n",
    "Y_hat = poly_pca.predict(feat_poly_test)\n",
    "print(\"Normalized MAE:\", (np.mean(np.abs(Y_test-Y_hat))/((test.nx//2)*test.sx)))"
   ]
  },
  {
   "cell_type": "code",
   "execution_count": null,
   "id": "584df05d-ea1d-4acc-94f3-1b9d3556ed00",
   "metadata": {},
   "outputs": [],
   "source": []
  }
 ],
 "metadata": {
  "kernelspec": {
   "display_name": "Python 3 (ipykernel)",
   "language": "python",
   "name": "python3"
  },
  "language_info": {
   "codemirror_mode": {
    "name": "ipython",
    "version": 3
   },
   "file_extension": ".py",
   "mimetype": "text/x-python",
   "name": "python",
   "nbconvert_exporter": "python",
   "pygments_lexer": "ipython3",
   "version": "3.11.6"
  }
 },
 "nbformat": 4,
 "nbformat_minor": 5
}
