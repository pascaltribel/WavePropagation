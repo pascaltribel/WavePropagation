{
 "cells": [
  {
   "cell_type": "code",
   "execution_count": 1,
   "id": "c94f8006-1052-4314-a1b5-42bec15e8fd2",
   "metadata": {},
   "outputs": [],
   "source": [
    "from PyAWD.AcousticWaveDataset import *\n",
    "import numpy as np\n",
    "import sklearn\n",
    "from sklearn.linear_model import LinearRegression\n",
    "import matplotlib.pyplot as plt"
   ]
  },
  {
   "cell_type": "code",
   "execution_count": 2,
   "id": "3f30c567-294f-4bba-9b2c-954e38837767",
   "metadata": {},
   "outputs": [
    {
     "data": {
      "application/vnd.jupyter.widget-view+json": {
       "model_id": "adaeb119cdfd46e09781e626f8392231",
       "version_major": 2,
       "version_minor": 0
      },
      "text/plain": [
       "  0%|          | 0/200 [00:00<?, ?it/s]"
      ]
     },
     "metadata": {},
     "output_type": "display_data"
    }
   ],
   "source": [
    "N = 200\n",
    "nx = 200\n",
    "train = AcousticWaveDataset(N, nx=nx)"
   ]
  },
  {
   "cell_type": "code",
   "execution_count": 8,
   "id": "3044fab8-54da-49a7-8e3e-c0664a7168e9",
   "metadata": {},
   "outputs": [
    {
     "data": {
      "application/vnd.jupyter.widget-view+json": {
       "model_id": "d762131942a1433eb4ad7c062416cfb7",
       "version_major": 2,
       "version_minor": 0
      },
      "text/plain": [
       "  0%|          | 0/40 [00:00<?, ?it/s]"
      ]
     },
     "metadata": {},
     "output_type": "display_data"
    }
   ],
   "source": [
    "M = N//5\n",
    "test = AcousticWaveDataset(M, nx=nx)"
   ]
  },
  {
   "cell_type": "code",
   "execution_count": 11,
   "id": "3dbf37d3-e5bd-495d-ac27-af8510d4491f",
   "metadata": {},
   "outputs": [],
   "source": [
    "norm_mses = []\n",
    "for s in range(10, 0, -1):\n",
    "    sx = s/10\n",
    "    train.set_scaling_factor(sx)\n",
    "    test.set_scaling_factor(sx)\n",
    "    X = [train[i][1].flatten() for i in range(N)]\n",
    "    Y = [train[i][0][0] for i in range(N)]\n",
    "    lr = LinearRegression().fit(X, Y)\n",
    "    X_test = np.array([test[i][1].flatten() for i in range(M)])\n",
    "    Y_test = np.array([test[i][0][0] for i in range(M)])\n",
    "    Y_hat = lr.predict(X_test)\n",
    "    MAE = np.mean(np.abs(Y_test-Y_hat))\n",
    "    norm_mses.append(MAE/((nx//2)*sx))"
   ]
  },
  {
   "cell_type": "code",
   "execution_count": 12,
   "id": "4ce8e535-fc62-4a35-bc0a-a707bbd237f1",
   "metadata": {},
   "outputs": [
    {
     "data": {
      "text/plain": [
       "[<matplotlib.lines.Line2D at 0x15c48d910>]"
      ]
     },
     "execution_count": 12,
     "metadata": {},
     "output_type": "execute_result"
    },
    {
     "data": {
      "image/png": "[encoded data removed]",
      "text/plain": [
       "<Figure size 640x480 with 1 Axes>"
      ]
     },
     "metadata": {},
     "output_type": "display_data"
    }
   ],
   "source": [
    "plt.plot(np.arange(0.1, 1.1, 0.1), norm_mses[::-1])"
   ]
  }
 ],
 "metadata": {
  "kernelspec": {
   "display_name": "Python 3 (ipykernel)",
   "language": "python",
   "name": "python3"
  },
  "language_info": {
   "codemirror_mode": {
    "name": "ipython",
    "version": 3
   },
   "file_extension": ".py",
   "mimetype": "text/x-python",
   "name": "python",
   "nbconvert_exporter": "python",
   "pygments_lexer": "ipython3",
   "version": "3.11.6"
  }
 },
 "nbformat": 4,
 "nbformat_minor": 5
}
