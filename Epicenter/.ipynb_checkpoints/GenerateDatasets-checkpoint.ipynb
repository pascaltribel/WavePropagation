{
 "cells": [
  {
   "cell_type": "code",
   "execution_count": 12,
   "id": "8030f7a7-1898-4220-8de6-eec564392b26",
   "metadata": {},
   "outputs": [],
   "source": [
    "from PyAWD.AcousticWaveDataset import *\n",
    "import torch"
   ]
  },
  {
   "cell_type": "code",
   "execution_count": 15,
   "id": "77b02b2f-dda0-420e-8423-953e7826f0ea",
   "metadata": {},
   "outputs": [
    {
     "data": {
      "application/vnd.jupyter.widget-view+json": {
       "model_id": "addfc9b0e3984d90afa981df450cf503",
       "version_major": 2,
       "version_minor": 0
      },
      "text/plain": [
       "  0%|          | 0/125 [00:00<?, ?it/s]"
      ]
     },
     "metadata": {},
     "output_type": "display_data"
    }
   ],
   "source": [
    "base = \"../../local/datasets/AWD/train_small\"\n",
    "N = 125\n",
    "nx = 256\n",
    "train = AcousticWaveDataset(N, nx=nx)\n",
    "torch.save(train, base+\".pt\")"
   ]
  },
  {
   "cell_type": "code",
   "execution_count": null,
   "id": "82b772e9-df38-4c31-a9f8-8b0ca0a05fa0",
   "metadata": {},
   "outputs": [],
   "source": []
  }
 ],
 "metadata": {
  "kernelspec": {
   "display_name": "Python 3 (ipykernel)",
   "language": "python",
   "name": "python3"
  },
  "language_info": {
   "codemirror_mode": {
    "name": "ipython",
    "version": 3
   },
   "file_extension": ".py",
   "mimetype": "text/x-python",
   "name": "python",
   "nbconvert_exporter": "python",
   "pygments_lexer": "ipython3",
   "version": "3.11.6"
  }
 },
 "nbformat": 4,
 "nbformat_minor": 5
}
