{
 "cells": [
  {
   "cell_type": "code",
   "execution_count": 8,
   "id": "c94f8006-1052-4314-a1b5-42bec15e8fd2",
   "metadata": {},
   "outputs": [],
   "source": [
    "from PyAWD.AcousticWaveDataset import *\n",
    "import numpy as np\n",
    "import sklearn\n",
    "from sklearn.linear_model import LinearRegression\n",
    "import matplotlib.pyplot as plt\n",
    "from tqdm.auto import tqdm"
   ]
  },
  {
   "cell_type": "code",
   "execution_count": 4,
   "id": "3f30c567-294f-4bba-9b2c-954e38837767",
   "metadata": {},
   "outputs": [],
   "source": [
    "train = torch.load(\"../../local/datasets/AWD/train_small.pt\")"
   ]
  },
  {
   "cell_type": "code",
   "execution_count": 5,
   "id": "3044fab8-54da-49a7-8e3e-c0664a7168e9",
   "metadata": {},
   "outputs": [],
   "source": [
    "test = torch.load(\"../../local/datasets/AWD/test_small.pt\")"
   ]
  },
  {
   "cell_type": "code",
   "execution_count": null,
   "id": "3dbf37d3-e5bd-495d-ac27-af8510d4491f",
   "metadata": {},
   "outputs": [
    {
     "data": {
      "application/vnd.jupyter.widget-view+json": {
       "model_id": "c8f45814aa474be28042f61946f627b9",
       "version_major": 2,
       "version_minor": 0
      },
      "text/plain": [
       "  0%|          | 0/10 [00:00<?, ?it/s]"
      ]
     },
     "metadata": {},
     "output_type": "display_data"
    }
   ],
   "source": [
    "norm_mses = []\n",
    "for s in tqdm(range(10, 0, -1)):\n",
    "    sx = s/10\n",
    "    train.set_scaling_factor(sx)\n",
    "    test.set_scaling_factor(sx)\n",
    "    X = [train[i][1].flatten() for i in range(train.size)]\n",
    "    Y = [train[i][0][0] for i in range(train.size)]\n",
    "    lr = LinearRegression().fit(X, Y)\n",
    "    X_test = np.array([test[i][1].flatten() for i in range(test.size)])\n",
    "    Y_test = np.array([test[i][0][0] for i in range(test.size)])\n",
    "    Y_hat = lr.predict(X_test)\n",
    "    MAE = np.mean(np.abs(Y_test-Y_hat))\n",
    "    norm_mses.append(MAE/((nx//2)*sx))"
   ]
  },
  {
   "cell_type": "code",
   "execution_count": null,
   "id": "4ce8e535-fc62-4a35-bc0a-a707bbd237f1",
   "metadata": {},
   "outputs": [],
   "source": [
    "plt.plot(np.arange(0.1, 1.1, 0.1), norm_mses[::-1])"
   ]
  },
  {
   "cell_type": "code",
   "execution_count": null,
   "id": "a1453d1b-c2b5-4996-82de-b24e715f91ae",
   "metadata": {},
   "outputs": [],
   "source": []
  }
 ],
 "metadata": {
  "kernelspec": {
   "display_name": "Python 3 (ipykernel)",
   "language": "python",
   "name": "python3"
  },
  "language_info": {
   "codemirror_mode": {
    "name": "ipython",
    "version": 3
   },
   "file_extension": ".py",
   "mimetype": "text/x-python",
   "name": "python",
   "nbconvert_exporter": "python",
   "pygments_lexer": "ipython3",
   "version": "3.11.6"
  }
 },
 "nbformat": 4,
 "nbformat_minor": 5
}
