{
 "cells": [
  {
   "cell_type": "code",
   "execution_count": 1,
   "id": "d1728918-b91d-4b69-9959-e9af8fdca184",
   "metadata": {},
   "outputs": [],
   "source": [
    "from pyawd import VectorAcousticWaveDataset2D, VectorAcousticWaveDataset3D\n",
    "import numpy as np\n",
    "import matplotlib.pyplot as plt\n",
    "import seaborn as sns\n",
    "import tsfresh\n",
    "from tsfresh.feature_extraction import MinimalFCParameters, EfficientFCParameters\n",
    "import pandas as pd\n",
    "\n",
    "sns.set_theme()"
   ]
  },
  {
   "cell_type": "code",
   "execution_count": 2,
   "id": "265db005-8193-4139-a23d-6e68fd2c1c9c",
   "metadata": {},
   "outputs": [],
   "source": [
    "train_dataset = VectorAcousticWaveDataset2D.load(\"../../../local/datasets/AWD/train2D\")\n",
    "train_dataset._display_velocity_model = True\n",
    "X = np.load(\"../../../local/datasets/AWD/train2D_interrogators_data.npy\")\n",
    "X = X[:, 0, :, :, :]\n",
    "Y = np.load(\"../../../local/datasets/AWD/train2D_epicenters.npy\")\n",
    "test_dataset = VectorAcousticWaveDataset2D.load(\"../../../local/datasets/AWD/test2D\")\n",
    "test_dataset._display_velocity_model = True\n",
    "X_test = np.load(\"../../../local/datasets/AWD/test2D_interrogators_data.npy\")\n",
    "X_test = X_test[:, 0, :, :, :]\n",
    "Y_test = np.load(\"../../../local/datasets/AWD/test2D_epicenters.npy\")"
   ]
  },
  {
   "cell_type": "code",
   "execution_count": 3,
   "id": "5f7dccd0-3016-4635-9ae8-f38a7a3cf0dd",
   "metadata": {},
   "outputs": [],
   "source": [
    "def make_df(X):\n",
    "    a = []\n",
    "    b = []\n",
    "    c = []\n",
    "    d = []\n",
    "    e = []\n",
    "    f = []\n",
    "    for i in range(X.shape[0]):\n",
    "        for j in range(X.shape[-1]):\n",
    "            a.append(i)\n",
    "            b.append(j*train_dataset.ddt)\n",
    "            c.append(X[i, 0, 0, j])\n",
    "            d.append(X[i, 0, 1, j])\n",
    "            e.append(X[i, 1, 0, j])\n",
    "            f.append(X[i, 1, 1, j])\n",
    "    df = pd.DataFrame()\n",
    "    df[\"id\"] = a\n",
    "    df[\"time\"] = b\n",
    "    df[\"x0\"] = c\n",
    "    df[\"y0\"] = d\n",
    "    df[\"x1\"] = e\n",
    "    df[\"y1\"] = f\n",
    "    return df"
   ]
  },
  {
   "cell_type": "code",
   "execution_count": 4,
   "id": "466aeaa5-6bf1-4e49-b63c-35d79267a6c4",
   "metadata": {},
   "outputs": [],
   "source": [
    "Y = Y[:, 1]\n",
    "Y_test = Y_test[:, 1]"
   ]
  },
  {
   "cell_type": "code",
   "execution_count": 5,
   "id": "4453a070-c1f8-4e2f-93f6-fbd0e0402e98",
   "metadata": {},
   "outputs": [],
   "source": [
    "df, df_test = make_df(X), make_df(X_test)"
   ]
  },
  {
   "cell_type": "code",
   "execution_count": 45,
   "id": "95ea2a1a-145a-461b-9e7a-52097c99c598",
   "metadata": {},
   "outputs": [
    {
     "name": "stderr",
     "output_type": "stream",
     "text": [
      "Feature Extraction: 100%|███████████████████████████████████████████████████████████████████████████████████████████████████████████████████████████████████████████████████████████| 20/20 [00:04<00:00,  4.25it/s]\n"
     ]
    }
   ],
   "source": [
    "train = tsfresh.extract_features(df, column_id=\"id\", column_sort=\"time\", \n",
    "                                 default_fc_parameters=MinimalFCParameters()).dropna(axis=1)"
   ]
  },
  {
   "cell_type": "code",
   "execution_count": 46,
   "id": "ee1981c7-becd-4d70-bd36-61252f88f279",
   "metadata": {},
   "outputs": [
    {
     "name": "stderr",
     "output_type": "stream",
     "text": [
      "Feature Extraction: 100%|███████████████████████████████████████████████████████████████████████████████████████████████████████████████████████████████████████████████████████████| 20/20 [00:04<00:00,  4.60it/s]\n"
     ]
    }
   ],
   "source": [
    "test = tsfresh.extract_features(df_test, column_id=\"id\", column_sort=\"time\", \n",
    "                                default_fc_parameters=MinimalFCParameters()).dropna(axis=1)"
   ]
  },
  {
   "cell_type": "code",
   "execution_count": 47,
   "id": "64780ab7-c0fd-4257-8452-027b178e21c8",
   "metadata": {},
   "outputs": [
    {
     "name": "stdout",
     "output_type": "stream",
     "text": [
      "Training size: 1000\n",
      "Testing size: 200\n"
     ]
    }
   ],
   "source": [
    "print(\"Training size:\", len(train))\n",
    "print(\"Testing size:\", len(test))"
   ]
  },
  {
   "cell_type": "code",
   "execution_count": 48,
   "id": "94d2dcf0-a8d1-4514-9260-2dd64d7bb220",
   "metadata": {},
   "outputs": [],
   "source": [
    "train_targets = Y\n",
    "train_features = train\n",
    "test_targets = Y_test\n",
    "test_features = test"
   ]
  },
  {
   "cell_type": "code",
   "execution_count": 49,
   "id": "f8e3cd87-3c10-4cdf-b079-71dfbc59a93b",
   "metadata": {},
   "outputs": [],
   "source": [
    "train_features_numeric = train_features.select_dtypes(include=[np.number])\n",
    "test_features_numeric = test_features.select_dtypes(include=[np.number])"
   ]
  },
  {
   "cell_type": "code",
   "execution_count": 50,
   "id": "bdaf584f-bb44-4e4c-9133-1e4d102f4052",
   "metadata": {},
   "outputs": [],
   "source": [
    "def normalize(df):\n",
    "    return (df-df.min())/(df.max()-df.min())"
   ]
  },
  {
   "cell_type": "code",
   "execution_count": 51,
   "id": "3faa156c-eefa-4c04-ac6a-11609aac92d3",
   "metadata": {},
   "outputs": [],
   "source": [
    "from sklearn.preprocessing import StandardScaler\n",
    "scaler = StandardScaler().fit(train_features_numeric)"
   ]
  },
  {
   "cell_type": "code",
   "execution_count": 52,
   "id": "ed1d52f7-6f61-4118-9c9d-eb546ac28e5f",
   "metadata": {},
   "outputs": [],
   "source": [
    "normalized_train_features_numeric = scaler.transform(train_features_numeric)\n",
    "normalized_train_targets = normalize(train_targets)\n",
    "normalized_test_features_numeric = scaler.transform(test_features_numeric)\n",
    "normalized_test_targets = normalize(test_targets)"
   ]
  },
  {
   "cell_type": "code",
   "execution_count": 53,
   "id": "2603f9b4-3ad7-4a78-82f1-f578bded1c4f",
   "metadata": {},
   "outputs": [
    {
     "name": "stdout",
     "output_type": "stream",
     "text": [
      "Numeric features: 40\n"
     ]
    }
   ],
   "source": [
    "print(\"Numeric features:\", len(train_features_numeric.columns))"
   ]
  },
  {
   "cell_type": "code",
   "execution_count": 54,
   "id": "2a2540c5-9649-423e-a99a-9579b8453343",
   "metadata": {},
   "outputs": [
    {
     "name": "stdout",
     "output_type": "stream",
     "text": [
      "Minimal target: -1.0\n",
      "Maximal target: 0.9375\n",
      "Mean target: -0.052875\n",
      "Median target: -0.0625\n"
     ]
    }
   ],
   "source": [
    "print(\"Minimal target:\", np.min(train_targets))\n",
    "print(\"Maximal target:\", np.max(train_targets))\n",
    "print(\"Mean target:\", np.mean(train_targets))\n",
    "print(\"Median target:\", np.median(train_targets))"
   ]
  },
  {
   "cell_type": "markdown",
   "id": "71a673f8-6430-4deb-b0b4-05ef426f6416",
   "metadata": {},
   "source": [
    "## Error function"
   ]
  },
  {
   "cell_type": "code",
   "execution_count": 55,
   "id": "2c5c8c5b-492d-4985-a45d-bb33b4f9a351",
   "metadata": {},
   "outputs": [],
   "source": [
    "def rmse(y, y_hat):\n",
    "    return np.mean((y-y_hat)**2)**0.5"
   ]
  },
  {
   "cell_type": "markdown",
   "id": "d5cabefb-70aa-496e-86be-0b22300c0680",
   "metadata": {},
   "source": [
    "## Linear Regression"
   ]
  },
  {
   "cell_type": "code",
   "execution_count": 56,
   "id": "443e684a-d708-4e0f-9873-99ba25561196",
   "metadata": {},
   "outputs": [],
   "source": [
    "from sklearn.linear_model import LinearRegression"
   ]
  },
  {
   "cell_type": "code",
   "execution_count": 57,
   "id": "ba9b6b61-ef99-4e1e-8ceb-3839d6aa00d6",
   "metadata": {},
   "outputs": [],
   "source": [
    "linear_model = LinearRegression().fit(normalized_train_features_numeric, normalized_train_targets)"
   ]
  },
  {
   "cell_type": "code",
   "execution_count": 58,
   "id": "72bb9630-1be4-4704-a8e6-4da933824c1b",
   "metadata": {},
   "outputs": [],
   "source": [
    "%%capture lm_res\n",
    "print(\"RMSE Linear Model:\", rmse(normalized_test_targets, linear_model.predict(normalized_test_features_numeric)))"
   ]
  },
  {
   "cell_type": "markdown",
   "id": "dde398a8-69c8-4377-ae2b-30f95ca2a25d",
   "metadata": {},
   "source": [
    "## Neural Network"
   ]
  },
  {
   "cell_type": "code",
   "execution_count": 59,
   "id": "fc8f27ea-27a3-4053-8f8b-138e911ed214",
   "metadata": {},
   "outputs": [],
   "source": [
    "from sklearn.neural_network import MLPRegressor"
   ]
  },
  {
   "cell_type": "code",
   "execution_count": 60,
   "id": "0a6b32c1-5124-48d2-8b1d-32894394a44e",
   "metadata": {},
   "outputs": [],
   "source": [
    "mlp_regressor = MLPRegressor(solver='adam',\n",
    "                             activation='logistic',\n",
    "                             hidden_layer_sizes=(32, 16, 8),\n",
    "                             max_iter=10000,\n",
    "                             learning_rate_init=0.01\n",
    "                            ).fit(normalized_train_features_numeric, normalized_train_targets)"
   ]
  },
  {
   "cell_type": "code",
   "execution_count": 61,
   "id": "1c3f5976-3604-40e9-a863-eacc344fec54",
   "metadata": {},
   "outputs": [],
   "source": [
    "%%capture nn_res\n",
    "print(\"RMSE Neural Network:\", rmse(normalized_test_targets, mlp_regressor.predict(normalized_test_features_numeric)))"
   ]
  },
  {
   "cell_type": "markdown",
   "id": "17e5933a-d03c-484b-9a56-ab01a6aa2c30",
   "metadata": {},
   "source": [
    "## SGD"
   ]
  },
  {
   "cell_type": "code",
   "execution_count": 62,
   "id": "b4c25a92-49f7-4fb5-82fe-92f7021811e7",
   "metadata": {},
   "outputs": [],
   "source": [
    "from sklearn.linear_model import SGDRegressor"
   ]
  },
  {
   "cell_type": "code",
   "execution_count": 63,
   "id": "51b30bcd-1243-480d-a218-6c41303871a2",
   "metadata": {},
   "outputs": [],
   "source": [
    "sgd = SGDRegressor(loss=\"squared_error\", penalty=\"l2\").fit(normalized_train_features_numeric, normalized_train_targets)"
   ]
  },
  {
   "cell_type": "code",
   "execution_count": 64,
   "id": "8db2e7f2-01c0-467e-8779-2953ab63750a",
   "metadata": {},
   "outputs": [],
   "source": [
    "%%capture sgd_res\n",
    "print(\"RMSE SGD:\", rmse(normalized_test_targets, sgd.predict(normalized_test_features_numeric)))"
   ]
  },
  {
   "cell_type": "markdown",
   "id": "c2f473df-4daf-4c06-a9dc-e2cbde96dd2e",
   "metadata": {},
   "source": [
    "## Support Vector Machines"
   ]
  },
  {
   "cell_type": "code",
   "execution_count": 65,
   "id": "b16b44d4-4538-4898-8ee2-8c98c8c832a3",
   "metadata": {},
   "outputs": [],
   "source": [
    "from sklearn import svm"
   ]
  },
  {
   "cell_type": "code",
   "execution_count": 66,
   "id": "1594d521-aae3-4a2e-97e9-7da69b4e5883",
   "metadata": {},
   "outputs": [],
   "source": [
    "svm = svm.SVR().fit(normalized_train_features_numeric, normalized_train_targets)"
   ]
  },
  {
   "cell_type": "code",
   "execution_count": 67,
   "id": "5212d1e3-4eec-46b1-ba86-afce4751d95b",
   "metadata": {},
   "outputs": [],
   "source": [
    "%%capture svm_res\n",
    "print(\"RMSE SVM:\", rmse(normalized_test_targets, svm.predict(normalized_test_features_numeric)))"
   ]
  },
  {
   "cell_type": "markdown",
   "id": "50e52074-2fcd-4175-a732-2494c09fd662",
   "metadata": {},
   "source": [
    "## PLS regression"
   ]
  },
  {
   "cell_type": "code",
   "execution_count": 68,
   "id": "ba3ecc31-182a-4035-903a-bf810e635c67",
   "metadata": {},
   "outputs": [],
   "source": [
    "from sklearn.cross_decomposition import PLSRegression"
   ]
  },
  {
   "cell_type": "code",
   "execution_count": 69,
   "id": "f0cceef8-541c-4589-8c55-3af3d9f2461e",
   "metadata": {},
   "outputs": [],
   "source": [
    "pls2 = PLSRegression(n_components=2).fit(normalized_train_features_numeric, normalized_train_targets)"
   ]
  },
  {
   "cell_type": "code",
   "execution_count": 70,
   "id": "60090532-6322-4924-bde1-c8fc3b7b4e4e",
   "metadata": {},
   "outputs": [],
   "source": [
    "%%capture pls_res\n",
    "print(\"RMSE PLS:\", rmse(normalized_test_targets, pls2.predict(normalized_test_features_numeric)))"
   ]
  },
  {
   "cell_type": "markdown",
   "id": "fed0c50f-dfa9-4815-897c-2fffef593a60",
   "metadata": {},
   "source": [
    "## Decision Tree"
   ]
  },
  {
   "cell_type": "code",
   "execution_count": 71,
   "id": "9a6103f0-d0fa-43fc-a2f6-cc018b000e31",
   "metadata": {},
   "outputs": [],
   "source": [
    "from sklearn import tree"
   ]
  },
  {
   "cell_type": "code",
   "execution_count": 72,
   "id": "63c3297c-06e9-407f-bb00-3551cedf22d1",
   "metadata": {},
   "outputs": [],
   "source": [
    "dt = tree.DecisionTreeRegressor().fit(normalized_train_features_numeric, normalized_train_targets)"
   ]
  },
  {
   "cell_type": "code",
   "execution_count": 73,
   "id": "705ab7b8-b775-4534-a2cc-3f2a0781d1b3",
   "metadata": {},
   "outputs": [],
   "source": [
    "%%capture dt_res\n",
    "print(\"RMSE Decision Tree:\", rmse(normalized_test_targets, dt.predict(normalized_test_features_numeric)))"
   ]
  },
  {
   "cell_type": "markdown",
   "id": "efec0a2d-3746-4ab6-8336-4ed2decdc2ce",
   "metadata": {},
   "source": [
    "## Random Forest"
   ]
  },
  {
   "cell_type": "code",
   "execution_count": 74,
   "id": "b5d5056a-f648-4687-9ccc-d2bbb5649acf",
   "metadata": {},
   "outputs": [],
   "source": [
    "from sklearn.ensemble import RandomForestRegressor"
   ]
  },
  {
   "cell_type": "code",
   "execution_count": 75,
   "id": "c79e201d-6bff-4681-ba5f-be82ad25c083",
   "metadata": {},
   "outputs": [],
   "source": [
    "rf = RandomForestRegressor().fit(normalized_train_features_numeric, normalized_train_targets)"
   ]
  },
  {
   "cell_type": "code",
   "execution_count": 76,
   "id": "8d896faa-5f29-45b2-a902-9578cb8afb25",
   "metadata": {},
   "outputs": [],
   "source": [
    "%%capture rf_res\n",
    "print(\"RMSE Random Forest:\", rmse(normalized_test_targets, rf.predict(normalized_test_features_numeric)))"
   ]
  },
  {
   "cell_type": "markdown",
   "id": "ff477596-5c9f-4b89-b4c6-7d80acebcd88",
   "metadata": {},
   "source": [
    "## AdaBoost"
   ]
  },
  {
   "cell_type": "code",
   "execution_count": 77,
   "id": "d3b50b29-dcc1-483d-8746-7b39a585f954",
   "metadata": {},
   "outputs": [],
   "source": [
    "from sklearn.ensemble import AdaBoostRegressor"
   ]
  },
  {
   "cell_type": "code",
   "execution_count": 78,
   "id": "43abc475-304b-4ff4-83f3-6f8a93ff024b",
   "metadata": {},
   "outputs": [],
   "source": [
    "ada_boost = AdaBoostRegressor().fit(normalized_train_features_numeric, normalized_train_targets)"
   ]
  },
  {
   "cell_type": "code",
   "execution_count": 79,
   "id": "bc7bda8e-a2d8-4974-b958-678f3c29dd1e",
   "metadata": {},
   "outputs": [],
   "source": [
    "%%capture ada_res\n",
    "print(\"RMSE Ada Boost:\", rmse(normalized_test_targets, ada_boost.predict(normalized_test_features_numeric)))"
   ]
  },
  {
   "cell_type": "markdown",
   "id": "6f3a8838-dc38-4f94-ae01-d8213e470c14",
   "metadata": {},
   "source": [
    "## Results"
   ]
  },
  {
   "cell_type": "code",
   "execution_count": 80,
   "id": "a851d975-0cfb-4038-a0a7-f7e8c5676081",
   "metadata": {},
   "outputs": [
    {
     "name": "stdout",
     "output_type": "stream",
     "text": [
      "RMSE Linear Model: 0.28139379533461695\n",
      "RMSE Neural Network: 0.11070025085944522\n",
      "RMSE SGD: 0.2188680661816679\n",
      "RMSE SVM: 0.11688581856579987\n",
      "RMSE PLS: 0.2168621725582156\n",
      "RMSE Decision Tree: 0.13142934701589265\n",
      "RMSE Random Forest: 0.10018880978761913\n",
      "RMSE Ada Boost: 0.11448287248565019\n"
     ]
    }
   ],
   "source": [
    "print(lm_res, end=\"\")\n",
    "print(nn_res, end=\"\")\n",
    "print(sgd_res, end=\"\")\n",
    "print(svm_res, end=\"\")\n",
    "print(pls_res, end=\"\")\n",
    "print(dt_res, end=\"\")\n",
    "print(rf_res, end=\"\")\n",
    "print(ada_res, end=\"\")"
   ]
  },
  {
   "cell_type": "code",
   "execution_count": 81,
   "id": "e107d4cc-bce8-4bc5-93da-b31441f4d0d0",
   "metadata": {},
   "outputs": [
    {
     "data": {
      "text/plain": [
       "<matplotlib.collections.PathCollection at 0x2b628a550>"
      ]
     },
     "execution_count": 81,
     "metadata": {},
     "output_type": "execute_result"
    },
    {
     "data": {
      "image/png": "[encoded data removed]",
      "text/plain": [
       "<Figure size 640x480 with 1 Axes>"
      ]
     },
     "metadata": {},
     "output_type": "display_data"
    }
   ],
   "source": [
    "plt.scatter(normalized_test_targets, rf.predict(normalized_test_features_numeric), marker='.')"
   ]
  },
  {
   "cell_type": "code",
   "execution_count": null,
   "id": "8450ef69-1737-4938-8a16-70cb32efa088",
   "metadata": {},
   "outputs": [],
   "source": []
  }
 ],
 "metadata": {
  "kernelspec": {
   "display_name": "Python 3 (ipykernel)",
   "language": "python",
   "name": "python3"
  },
  "language_info": {
   "codemirror_mode": {
    "name": "ipython",
    "version": 3
   },
   "file_extension": ".py",
   "mimetype": "text/x-python",
   "name": "python",
   "nbconvert_exporter": "python",
   "pygments_lexer": "ipython3",
   "version": "3.11.6"
  }
 },
 "nbformat": 4,
 "nbformat_minor": 5
}
