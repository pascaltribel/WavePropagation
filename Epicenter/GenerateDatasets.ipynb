{
 "cells": [
  {
   "cell_type": "code",
   "execution_count": 1,
   "id": "8030f7a7-1898-4220-8de6-eec564392b26",
   "metadata": {},
   "outputs": [],
   "source": [
    "from PyAWD.AcousticWaveDataset import *\n",
    "import torch"
   ]
  },
  {
   "cell_type": "code",
   "execution_count": 2,
   "id": "77b02b2f-dda0-420e-8423-953e7826f0ea",
   "metadata": {},
   "outputs": [
    {
     "data": {
      "application/vnd.jupyter.widget-view+json": {
       "model_id": "c3693c833b874cd491634828dba6f71b",
       "version_major": 2,
       "version_minor": 0
      },
      "text/plain": [
       "  0%|          | 0/400 [00:00<?, ?it/s]"
      ]
     },
     "metadata": {},
     "output_type": "display_data"
    }
   ],
   "source": [
    "base = \"../../local/datasets/AWD/train\"\n",
    "N = 400\n",
    "nx = 128\n",
    "interrogators = [(128//4, 0), (-128//4, 0), (0, 128//4), (0, -128//4)]\n",
    "train = AcousticWaveDataset(N, nx=nx, interrogators=interrogators)\n",
    "torch.save(train, base+\".pt\")"
   ]
  },
  {
   "cell_type": "code",
   "execution_count": 3,
   "id": "82b772e9-df38-4c31-a9f8-8b0ca0a05fa0",
   "metadata": {},
   "outputs": [
    {
     "data": {
      "application/vnd.jupyter.widget-view+json": {
       "model_id": "81326ab4f6854886b4ed2ce6f931a145",
       "version_major": 2,
       "version_minor": 0
      },
      "text/plain": [
       "  0%|          | 0/64 [00:00<?, ?it/s]"
      ]
     },
     "metadata": {},
     "output_type": "display_data"
    }
   ],
   "source": [
    "base = \"../../local/datasets/AWD/test\"\n",
    "N = 64\n",
    "nx = 128\n",
    "train = AcousticWaveDataset(N, nx=nx, interrogators=interrogators)\n",
    "torch.save(train, base+\".pt\")"
   ]
  },
  {
   "cell_type": "code",
   "execution_count": null,
   "id": "2ce1bdb1-aa98-4121-b124-1a159d5a33bb",
   "metadata": {},
   "outputs": [],
   "source": []
  }
 ],
 "metadata": {
  "kernelspec": {
   "display_name": "Python 3 (ipykernel)",
   "language": "python",
   "name": "python3"
  },
  "language_info": {
   "codemirror_mode": {
    "name": "ipython",
    "version": 3
   },
   "file_extension": ".py",
   "mimetype": "text/x-python",
   "name": "python",
   "nbconvert_exporter": "python",
   "pygments_lexer": "ipython3",
   "version": "3.11.6"
  }
 },
 "nbformat": 4,
 "nbformat_minor": 5
}
