{
 "cells": [
  {
   "cell_type": "code",
   "execution_count": 1,
   "id": "8030f7a7-1898-4220-8de6-eec564392b26",
   "metadata": {},
   "outputs": [],
   "source": [
    "from pyawd import VectorAcousticWaveDataset2D, VectorAcousticWaveDataset3D\n",
    "from tqdm.auto import tqdm\n",
    "import numpy as np"
   ]
  },
  {
   "cell_type": "code",
   "execution_count": 2,
   "id": "9d3c9941-5ad1-4048-987a-ad562389e90d",
   "metadata": {},
   "outputs": [],
   "source": [
    "def generate_interrogators_dataset(X):\n",
    "    res = []\n",
    "    for i in tqdm(range(X.size)):\n",
    "        res.append(np.array([list(X[i][1].values())]))\n",
    "    return np.array(res)"
   ]
  },
  {
   "cell_type": "code",
   "execution_count": 3,
   "id": "77b02b2f-dda0-420e-8423-953e7826f0ea",
   "metadata": {},
   "outputs": [],
   "source": [
    "base_train = \"../../local/datasets/AWD/train2D\"\n",
    "N = 1000\n",
    "nx = 32\n",
    "interrogators = [(nx//4, 0), (-nx//4, 0)]\n",
    "train = VectorAcousticWaveDataset2D(N, nx=nx, interrogators=interrogators, velocity_model=\"Marmousi\")\n",
    "train.save(base_train)"
   ]
  },
  {
   "cell_type": "code",
   "execution_count": 4,
   "id": "93dcadc3-e399-4622-ba07-50d3720533f0",
   "metadata": {},
   "outputs": [
    {
     "data": {
      "application/vnd.jupyter.widget-view+json": {
       "model_id": "1d6af591af844a75ad6279778cce83a7",
       "version_major": 2,
       "version_minor": 0
      },
      "text/plain": [
       "  0%|          | 0/1000 [00:00<?, ?it/s]"
      ]
     },
     "metadata": {},
     "output_type": "display_data"
    }
   ],
   "source": [
    "X = generate_interrogators_dataset(train)"
   ]
  },
  {
   "cell_type": "code",
   "execution_count": 5,
   "id": "98b0e44c-97ea-4a3f-be4f-59e0d97f62af",
   "metadata": {},
   "outputs": [],
   "source": [
    "np.save(base_train+\"_interrogators_data.npy\", X)\n",
    "Y = np.array([train.get_epicenter(i)/(train.nx/2) for i in range(train.size)])\n",
    "np.save(base_train+\"_epicenters.npy\", Y)"
   ]
  },
  {
   "cell_type": "code",
   "execution_count": 6,
   "id": "82b772e9-df38-4c31-a9f8-8b0ca0a05fa0",
   "metadata": {},
   "outputs": [],
   "source": [
    "base_test = \"../../local/datasets/AWD/test2D\"\n",
    "N = 200\n",
    "nx = 32\n",
    "test = VectorAcousticWaveDataset2D(N, nx=nx, interrogators=interrogators, velocity_model=\"Marmousi\")\n",
    "test.save(base_test)"
   ]
  },
  {
   "cell_type": "code",
   "execution_count": 7,
   "id": "740d142d-6efa-4631-8c4c-ba9505b15f51",
   "metadata": {},
   "outputs": [
    {
     "data": {
      "application/vnd.jupyter.widget-view+json": {
       "model_id": "86998488b3e4453bba00e2ac4496d9d5",
       "version_major": 2,
       "version_minor": 0
      },
      "text/plain": [
       "  0%|          | 0/200 [00:00<?, ?it/s]"
      ]
     },
     "metadata": {},
     "output_type": "display_data"
    }
   ],
   "source": [
    "X_test = generate_interrogators_dataset(test)\n",
    "np.save(base_test+\"_interrogators_data.npy\", X_test)"
   ]
  },
  {
   "cell_type": "code",
   "execution_count": 8,
   "id": "30ceb3be-d0c5-43dc-8768-8fe761e2364e",
   "metadata": {},
   "outputs": [],
   "source": [
    "Y_test = np.array([test.get_epicenter(i)/(test.nx/2) for i in range(test.size)])\n",
    "np.save(base_test+\"_epicenters.npy\", Y_test)"
   ]
  },
  {
   "cell_type": "code",
   "execution_count": null,
   "id": "5b04ccb0-d383-48db-90d7-0567910cafe5",
   "metadata": {},
   "outputs": [],
   "source": []
  }
 ],
 "metadata": {
  "kernelspec": {
   "display_name": "Python 3 (ipykernel)",
   "language": "python",
   "name": "python3"
  },
  "language_info": {
   "codemirror_mode": {
    "name": "ipython",
    "version": 3
   },
   "file_extension": ".py",
   "mimetype": "text/x-python",
   "name": "python",
   "nbconvert_exporter": "python",
   "pygments_lexer": "ipython3",
   "version": "3.11.6"
  }
 },
 "nbformat": 4,
 "nbformat_minor": 5
}
