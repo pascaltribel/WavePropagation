{
 "cells": [
  {
   "cell_type": "code",
   "execution_count": 1,
   "id": "8030f7a7-1898-4220-8de6-eec564392b26",
   "metadata": {},
   "outputs": [],
   "source": [
    "from pyawd import VectorAcousticWaveDataset2D, VectorAcousticWaveDataset3D\n",
    "from tqdm.auto import tqdm\n",
    "import numpy as np"
   ]
  },
  {
   "cell_type": "code",
   "execution_count": 2,
   "id": "9d3c9941-5ad1-4048-987a-ad562389e90d",
   "metadata": {},
   "outputs": [],
   "source": [
    "def generate_interrogators_dataset(X):\n",
    "    res = []\n",
    "    for i in tqdm(range(X.size)):\n",
    "        res.append(np.array([list(X[i][1].values())]))\n",
    "    return np.array(res)"
   ]
  },
  {
   "cell_type": "code",
   "execution_count": 9,
   "id": "77b02b2f-dda0-420e-8423-953e7826f0ea",
   "metadata": {},
   "outputs": [],
   "source": [
    "base_train = \"../../local/datasets/AWD/train2D_2\"\n",
    "N = 1000\n",
    "nx = 32\n",
    "interrogators = [(nx//4, 0), (-nx//4, 0)]\n",
    "train = VectorAcousticWaveDataset2D(N, nx=nx, interrogators=interrogators, velocity_model=\"Marmousi\")\n",
    "train.save(base_train)"
   ]
  },
  {
   "cell_type": "code",
   "execution_count": 10,
   "id": "93dcadc3-e399-4622-ba07-50d3720533f0",
   "metadata": {},
   "outputs": [
    {
     "data": {
      "application/vnd.jupyter.widget-view+json": {
       "model_id": "fab318922a5a4d0f86e2efb522730f59",
       "version_major": 2,
       "version_minor": 0
      },
      "text/plain": [
       "  0%|          | 0/1000 [00:00<?, ?it/s]"
      ]
     },
     "metadata": {},
     "output_type": "display_data"
    },
    {
     "name": "stderr",
     "output_type": "stream",
     "text": [
      "/var/folders/g7/l9_hhr256md6lt7yldvmnjjw0000gn/T/devito-jitcache-uid501/aaaba77f78a7ef591d158b2012f989e351270ed3.c:8:10: fatal error: 'omp.h' file not found\n",
      "#include \"omp.h\"\n",
      "         ^~~~~~~\n",
      "1 error generated.\n",
      "FAILED compiler invocation: gcc -march=native -O3 -g -fPIC -Wall -std=c99 -Wno-unused-result -Wno-unused-variable -Wno-unused-but-set-variable -ffast-math -shared /var/folders/g7/l9_hhr256md6lt7yldvmnjjw0000gn/T/devito-jitcache-uid501/aaaba77f78a7ef591d158b2012f989e351270ed3.c -lm -o /var/folders/g7/l9_hhr256md6lt7yldvmnjjw0000gn/T/devito-jitcache-uid501/aaaba77f78a7ef591d158b2012f989e351270ed3.dylib\n"
     ]
    },
    {
     "ename": "CompileError",
     "evalue": "module compilation failed",
     "output_type": "error",
     "traceback": [
      "\u001b[0;31m---------------------------------------------------------------------------\u001b[0m",
      "\u001b[0;31mCompileError\u001b[0m                              Traceback (most recent call last)",
      "Cell \u001b[0;32mIn[10], line 1\u001b[0m\n\u001b[0;32m----> 1\u001b[0m X \u001b[38;5;241m=\u001b[39m \u001b[43mgenerate_interrogators_dataset\u001b[49m\u001b[43m(\u001b[49m\u001b[43mtrain\u001b[49m\u001b[43m)\u001b[49m\n",
      "Cell \u001b[0;32mIn[2], line 4\u001b[0m, in \u001b[0;36mgenerate_interrogators_dataset\u001b[0;34m(X)\u001b[0m\n\u001b[1;32m      2\u001b[0m res \u001b[38;5;241m=\u001b[39m []\n\u001b[1;32m      3\u001b[0m \u001b[38;5;28;01mfor\u001b[39;00m i \u001b[38;5;129;01min\u001b[39;00m tqdm(\u001b[38;5;28mrange\u001b[39m(X\u001b[38;5;241m.\u001b[39msize)):\n\u001b[0;32m----> 4\u001b[0m     res\u001b[38;5;241m.\u001b[39mappend(np\u001b[38;5;241m.\u001b[39marray([\u001b[38;5;28mlist\u001b[39m(\u001b[43mX\u001b[49m\u001b[43m[\u001b[49m\u001b[43mi\u001b[49m\u001b[43m]\u001b[49m[\u001b[38;5;241m1\u001b[39m]\u001b[38;5;241m.\u001b[39mvalues())]))\n\u001b[1;32m      5\u001b[0m \u001b[38;5;28;01mreturn\u001b[39;00m np\u001b[38;5;241m.\u001b[39marray(res)\n",
      "File \u001b[0;32m/Library/Frameworks/Python.framework/Versions/3.11/lib/python3.11/site-packages/pyawd/VectorAcousticWaveDataset2D.py:192\u001b[0m, in \u001b[0;36mVectorAcousticWaveDataset2D.__getitem__\u001b[0;34m(self, idx)\u001b[0m\n\u001b[1;32m    185\u001b[0m \u001b[38;5;28;01mdef\u001b[39;00m \u001b[38;5;21m__getitem__\u001b[39m(\u001b[38;5;28mself\u001b[39m, idx):\n\u001b[1;32m    186\u001b[0m \u001b[38;5;250m    \u001b[39m\u001b[38;5;124;03m\"\"\"\u001b[39;00m\n\u001b[1;32m    187\u001b[0m \u001b[38;5;124;03m    Returns:\u001b[39;00m\n\u001b[1;32m    188\u001b[0m \u001b[38;5;124;03m        (Tuple): The epicenter, the simulation of the `idx`th sample, the maximal speed of propagation of the\u001b[39;00m\n\u001b[1;32m    189\u001b[0m \u001b[38;5;124;03m         propagation field, the delay before the external force application, the force amplitude factor and\u001b[39;00m\n\u001b[1;32m    190\u001b[0m \u001b[38;5;124;03m         the interrogated data\u001b[39;00m\n\u001b[1;32m    191\u001b[0m \u001b[38;5;124;03m    \"\"\"\u001b[39;00m\n\u001b[0;32m--> 192\u001b[0m     data \u001b[38;5;241m=\u001b[39m \u001b[38;5;28;43mself\u001b[39;49m\u001b[38;5;241;43m.\u001b[39;49m\u001b[43msolve_pde\u001b[49m\u001b[43m(\u001b[49m\u001b[43midx\u001b[49m\u001b[43m)\u001b[49m\n\u001b[1;32m    193\u001b[0m     \u001b[38;5;28;01mreturn\u001b[39;00m (torch\u001b[38;5;241m.\u001b[39mTensor(data[:, ::\u001b[38;5;28mint\u001b[39m(\u001b[38;5;28mself\u001b[39m\u001b[38;5;241m.\u001b[39mndt \u001b[38;5;241m/\u001b[39m \u001b[38;5;28mself\u001b[39m\u001b[38;5;241m.\u001b[39mnt),\n\u001b[1;32m    194\u001b[0m                          ::\u001b[38;5;28mint\u001b[39m(\u001b[38;5;241m1\u001b[39m \u001b[38;5;241m/\u001b[39m \u001b[38;5;28mself\u001b[39m\u001b[38;5;241m.\u001b[39msx), ::\u001b[38;5;28mint\u001b[39m(\u001b[38;5;241m1\u001b[39m \u001b[38;5;241m/\u001b[39m \u001b[38;5;28mself\u001b[39m\u001b[38;5;241m.\u001b[39msx)]),\n\u001b[1;32m    195\u001b[0m             {i: data[:, :, i[\u001b[38;5;241m0\u001b[39m] \u001b[38;5;241m+\u001b[39m (\u001b[38;5;28mself\u001b[39m\u001b[38;5;241m.\u001b[39mnx \u001b[38;5;241m/\u001b[39m\u001b[38;5;241m/\u001b[39m \u001b[38;5;241m2\u001b[39m), i[\u001b[38;5;241m1\u001b[39m] \u001b[38;5;241m+\u001b[39m (\u001b[38;5;28mself\u001b[39m\u001b[38;5;241m.\u001b[39mnx \u001b[38;5;241m/\u001b[39m\u001b[38;5;241m/\u001b[39m \u001b[38;5;241m2\u001b[39m)]\n\u001b[1;32m    196\u001b[0m              \u001b[38;5;28;01mfor\u001b[39;00m i \u001b[38;5;129;01min\u001b[39;00m \u001b[38;5;28mself\u001b[39m\u001b[38;5;241m.\u001b[39minterrogators})\n",
      "File \u001b[0;32m/Library/Frameworks/Python.framework/Versions/3.11/lib/python3.11/site-packages/pyawd/VectorAcousticWaveDataset2D.py:80\u001b[0m, in \u001b[0;36mVectorAcousticWaveDataset2D.solve_pde\u001b[0;34m(self, idx)\u001b[0m\n\u001b[1;32m     74\u001b[0m \u001b[38;5;28mself\u001b[39m\u001b[38;5;241m.\u001b[39m_f[\u001b[38;5;241m1\u001b[39m]\u001b[38;5;241m.\u001b[39mdata[:] \u001b[38;5;241m=\u001b[39m (np\u001b[38;5;241m.\u001b[39mtile(s_y, (s_t\u001b[38;5;241m.\u001b[39mshape[\u001b[38;5;241m0\u001b[39m], \u001b[38;5;241m1\u001b[39m, \u001b[38;5;241m1\u001b[39m)) \u001b[38;5;241m*\u001b[39m s_t[:, \u001b[38;5;28;01mNone\u001b[39;00m, \u001b[38;5;28;01mNone\u001b[39;00m])\n\u001b[1;32m     75\u001b[0m op \u001b[38;5;241m=\u001b[39m dvt\u001b[38;5;241m.\u001b[39mOperator(dvt\u001b[38;5;241m.\u001b[39mEq(\u001b[38;5;28mself\u001b[39m\u001b[38;5;241m.\u001b[39m_u\u001b[38;5;241m.\u001b[39mforward,\n\u001b[1;32m     76\u001b[0m                          dvt\u001b[38;5;241m.\u001b[39msolve(dvt\u001b[38;5;241m.\u001b[39mEq(\u001b[38;5;28mself\u001b[39m\u001b[38;5;241m.\u001b[39m_u\u001b[38;5;241m.\u001b[39mdt2, \u001b[38;5;28mself\u001b[39m\u001b[38;5;241m.\u001b[39m_f \u001b[38;5;241m+\u001b[39m\n\u001b[1;32m     77\u001b[0m                                           ((\u001b[38;5;28mself\u001b[39m\u001b[38;5;241m.\u001b[39mmax_velocities[idx] \u001b[38;5;241m*\u001b[39m \u001b[38;5;28mself\u001b[39m\u001b[38;5;241m.\u001b[39mvelocity_model) \u001b[38;5;241m*\u001b[39m\u001b[38;5;241m*\u001b[39m \u001b[38;5;241m2\u001b[39m)\n\u001b[1;32m     78\u001b[0m                                           \u001b[38;5;241m*\u001b[39m \u001b[38;5;28mself\u001b[39m\u001b[38;5;241m.\u001b[39m_u\u001b[38;5;241m.\u001b[39mlaplace \u001b[38;5;241m-\u001b[39m \u001b[38;5;28mself\u001b[39m\u001b[38;5;241m.\u001b[39mattenuation_factor\u001b[38;5;241m*\u001b[39m\u001b[38;5;28mself\u001b[39m\u001b[38;5;241m.\u001b[39m_u\u001b[38;5;241m.\u001b[39mdt),\n\u001b[1;32m     79\u001b[0m                                    \u001b[38;5;28mself\u001b[39m\u001b[38;5;241m.\u001b[39m_u\u001b[38;5;241m.\u001b[39mforward)), opt\u001b[38;5;241m=\u001b[39m(\u001b[38;5;124m'\u001b[39m\u001b[38;5;124madvanced\u001b[39m\u001b[38;5;124m'\u001b[39m, {\u001b[38;5;124m'\u001b[39m\u001b[38;5;124mopenmp\u001b[39m\u001b[38;5;124m'\u001b[39m: \u001b[38;5;28mself\u001b[39m\u001b[38;5;241m.\u001b[39mopenmp}))\n\u001b[0;32m---> 80\u001b[0m \u001b[43mop\u001b[49m\u001b[38;5;241;43m.\u001b[39;49m\u001b[43mapply\u001b[49m\u001b[43m(\u001b[49m\u001b[43mdt\u001b[49m\u001b[38;5;241;43m=\u001b[39;49m\u001b[38;5;28;43mself\u001b[39;49m\u001b[38;5;241;43m.\u001b[39;49m\u001b[43mddt\u001b[49m\u001b[43m)\u001b[49m\n\u001b[1;32m     81\u001b[0m \u001b[38;5;28;01mreturn\u001b[39;00m np\u001b[38;5;241m.\u001b[39marray([\u001b[38;5;28mself\u001b[39m\u001b[38;5;241m.\u001b[39m_u[i]\u001b[38;5;241m.\u001b[39mdata \u001b[38;5;28;01mfor\u001b[39;00m i \u001b[38;5;129;01min\u001b[39;00m \u001b[38;5;28mrange\u001b[39m(\u001b[38;5;28mself\u001b[39m\u001b[38;5;241m.\u001b[39m_u\u001b[38;5;241m.\u001b[39mshape[\u001b[38;5;241m0\u001b[39m])])\n",
      "File \u001b[0;32m/Library/Frameworks/Python.framework/Versions/3.11/lib/python3.11/site-packages/devito/operator/operator.py:832\u001b[0m, in \u001b[0;36mOperator.apply\u001b[0;34m(self, **kwargs)\u001b[0m\n\u001b[1;32m    830\u001b[0m arg_values \u001b[38;5;241m=\u001b[39m [args[p\u001b[38;5;241m.\u001b[39mname] \u001b[38;5;28;01mfor\u001b[39;00m p \u001b[38;5;129;01min\u001b[39;00m \u001b[38;5;28mself\u001b[39m\u001b[38;5;241m.\u001b[39mparameters]\n\u001b[1;32m    831\u001b[0m \u001b[38;5;28;01mtry\u001b[39;00m:\n\u001b[0;32m--> 832\u001b[0m     cfunction \u001b[38;5;241m=\u001b[39m \u001b[38;5;28;43mself\u001b[39;49m\u001b[38;5;241;43m.\u001b[39;49m\u001b[43mcfunction\u001b[49m\n\u001b[1;32m    833\u001b[0m     \u001b[38;5;28;01mwith\u001b[39;00m \u001b[38;5;28mself\u001b[39m\u001b[38;5;241m.\u001b[39m_profiler\u001b[38;5;241m.\u001b[39mtimer_on(\u001b[38;5;124m'\u001b[39m\u001b[38;5;124mapply\u001b[39m\u001b[38;5;124m'\u001b[39m, comm\u001b[38;5;241m=\u001b[39margs\u001b[38;5;241m.\u001b[39mcomm):\n\u001b[1;32m    834\u001b[0m         cfunction(\u001b[38;5;241m*\u001b[39marg_values)\n",
      "File \u001b[0;32m/Library/Frameworks/Python.framework/Versions/3.11/lib/python3.11/site-packages/devito/operator/operator.py:714\u001b[0m, in \u001b[0;36mOperator.cfunction\u001b[0;34m(self)\u001b[0m\n\u001b[1;32m    712\u001b[0m \u001b[38;5;250m\u001b[39m\u001b[38;5;124;03m\"\"\"The JIT-compiled C function as a ctypes.FuncPtr object.\"\"\"\u001b[39;00m\n\u001b[1;32m    713\u001b[0m \u001b[38;5;28;01mif\u001b[39;00m \u001b[38;5;28mself\u001b[39m\u001b[38;5;241m.\u001b[39m_lib \u001b[38;5;129;01mis\u001b[39;00m \u001b[38;5;28;01mNone\u001b[39;00m:\n\u001b[0;32m--> 714\u001b[0m     \u001b[38;5;28;43mself\u001b[39;49m\u001b[38;5;241;43m.\u001b[39;49m\u001b[43m_jit_compile\u001b[49m\u001b[43m(\u001b[49m\u001b[43m)\u001b[49m\n\u001b[1;32m    715\u001b[0m     \u001b[38;5;28mself\u001b[39m\u001b[38;5;241m.\u001b[39m_lib \u001b[38;5;241m=\u001b[39m \u001b[38;5;28mself\u001b[39m\u001b[38;5;241m.\u001b[39m_compiler\u001b[38;5;241m.\u001b[39mload(\u001b[38;5;28mself\u001b[39m\u001b[38;5;241m.\u001b[39m_soname)\n\u001b[1;32m    716\u001b[0m     \u001b[38;5;28mself\u001b[39m\u001b[38;5;241m.\u001b[39m_lib\u001b[38;5;241m.\u001b[39mname \u001b[38;5;241m=\u001b[39m \u001b[38;5;28mself\u001b[39m\u001b[38;5;241m.\u001b[39m_soname\n",
      "File \u001b[0;32m/Library/Frameworks/Python.framework/Versions/3.11/lib/python3.11/site-packages/devito/operator/operator.py:699\u001b[0m, in \u001b[0;36mOperator._jit_compile\u001b[0;34m(self)\u001b[0m\n\u001b[1;32m    697\u001b[0m \u001b[38;5;28;01mif\u001b[39;00m \u001b[38;5;28mself\u001b[39m\u001b[38;5;241m.\u001b[39m_lib \u001b[38;5;129;01mis\u001b[39;00m \u001b[38;5;28;01mNone\u001b[39;00m:\n\u001b[1;32m    698\u001b[0m     \u001b[38;5;28;01mwith\u001b[39;00m \u001b[38;5;28mself\u001b[39m\u001b[38;5;241m.\u001b[39m_profiler\u001b[38;5;241m.\u001b[39mtimer_on(\u001b[38;5;124m'\u001b[39m\u001b[38;5;124mjit-compile\u001b[39m\u001b[38;5;124m'\u001b[39m):\n\u001b[0;32m--> 699\u001b[0m         recompiled, src_file \u001b[38;5;241m=\u001b[39m \u001b[38;5;28;43mself\u001b[39;49m\u001b[38;5;241;43m.\u001b[39;49m\u001b[43m_compiler\u001b[49m\u001b[38;5;241;43m.\u001b[39;49m\u001b[43mjit_compile\u001b[49m\u001b[43m(\u001b[49m\u001b[38;5;28;43mself\u001b[39;49m\u001b[38;5;241;43m.\u001b[39;49m\u001b[43m_soname\u001b[49m\u001b[43m,\u001b[49m\n\u001b[1;32m    700\u001b[0m \u001b[43m                                                          \u001b[49m\u001b[38;5;28;43mstr\u001b[39;49m\u001b[43m(\u001b[49m\u001b[38;5;28;43mself\u001b[39;49m\u001b[38;5;241;43m.\u001b[39;49m\u001b[43mccode\u001b[49m\u001b[43m)\u001b[49m\u001b[43m)\u001b[49m\n\u001b[1;32m    702\u001b[0m     elapsed \u001b[38;5;241m=\u001b[39m \u001b[38;5;28mself\u001b[39m\u001b[38;5;241m.\u001b[39m_profiler\u001b[38;5;241m.\u001b[39mpy_timers[\u001b[38;5;124m'\u001b[39m\u001b[38;5;124mjit-compile\u001b[39m\u001b[38;5;124m'\u001b[39m]\n\u001b[1;32m    703\u001b[0m     \u001b[38;5;28;01mif\u001b[39;00m recompiled:\n",
      "File \u001b[0;32m/Library/Frameworks/Python.framework/Versions/3.11/lib/python3.11/site-packages/devito/arch/compiler.py:360\u001b[0m, in \u001b[0;36mCompiler.jit_compile\u001b[0;34m(self, soname, code)\u001b[0m\n\u001b[1;32m    358\u001b[0m \u001b[38;5;28;01mwith\u001b[39;00m warnings\u001b[38;5;241m.\u001b[39mcatch_warnings():\n\u001b[1;32m    359\u001b[0m     warnings\u001b[38;5;241m.\u001b[39msimplefilter(\u001b[38;5;124m'\u001b[39m\u001b[38;5;124mignore\u001b[39m\u001b[38;5;124m'\u001b[39m)\n\u001b[0;32m--> 360\u001b[0m     _, _, _, recompiled \u001b[38;5;241m=\u001b[39m \u001b[43mcompile_from_string\u001b[49m\u001b[43m(\u001b[49m\u001b[38;5;28;43mself\u001b[39;49m\u001b[43m,\u001b[49m\u001b[43m \u001b[49m\u001b[43mtarget\u001b[49m\u001b[43m,\u001b[49m\u001b[43m \u001b[49m\u001b[43mcode\u001b[49m\u001b[43m,\u001b[49m\u001b[43m \u001b[49m\u001b[43msrc_file\u001b[49m\u001b[43m,\u001b[49m\n\u001b[1;32m    361\u001b[0m \u001b[43m                                              \u001b[49m\u001b[43mcache_dir\u001b[49m\u001b[38;5;241;43m=\u001b[39;49m\u001b[43mcache_dir\u001b[49m\u001b[43m,\u001b[49m\u001b[43m \u001b[49m\u001b[43mdebug\u001b[49m\u001b[38;5;241;43m=\u001b[39;49m\u001b[43mdebug\u001b[49m\u001b[43m,\u001b[49m\n\u001b[1;32m    362\u001b[0m \u001b[43m                                              \u001b[49m\u001b[43msleep_delay\u001b[49m\u001b[38;5;241;43m=\u001b[39;49m\u001b[43msleep_delay\u001b[49m\u001b[43m)\u001b[49m\n\u001b[1;32m    364\u001b[0m \u001b[38;5;28;01mreturn\u001b[39;00m recompiled, src_file\n",
      "File \u001b[0;32m/Library/Frameworks/Python.framework/Versions/3.11/lib/python3.11/site-packages/codepy/jit.py:439\u001b[0m, in \u001b[0;36mcompile_from_string\u001b[0;34m(toolchain, name, source_string, source_name, cache_dir, debug, wait_on_error, debug_recompile, object, source_is_binary, sleep_delay)\u001b[0m\n\u001b[1;32m    437\u001b[0m     toolchain\u001b[38;5;241m.\u001b[39mbuild_object(ext_file, source_paths, debug\u001b[38;5;241m=\u001b[39mdebug)\n\u001b[1;32m    438\u001b[0m \u001b[38;5;28;01melse\u001b[39;00m:\n\u001b[0;32m--> 439\u001b[0m     \u001b[43mtoolchain\u001b[49m\u001b[38;5;241;43m.\u001b[39;49m\u001b[43mbuild_extension\u001b[49m\u001b[43m(\u001b[49m\u001b[43mext_file\u001b[49m\u001b[43m,\u001b[49m\u001b[43m \u001b[49m\u001b[43msource_paths\u001b[49m\u001b[43m,\u001b[49m\u001b[43m \u001b[49m\u001b[43mdebug\u001b[49m\u001b[38;5;241;43m=\u001b[39;49m\u001b[43mdebug\u001b[49m\u001b[43m)\u001b[49m\n\u001b[1;32m    441\u001b[0m \u001b[38;5;28;01mif\u001b[39;00m info_path \u001b[38;5;129;01mis\u001b[39;00m \u001b[38;5;129;01mnot\u001b[39;00m \u001b[38;5;28;01mNone\u001b[39;00m:\n\u001b[1;32m    442\u001b[0m     \u001b[38;5;28;01mimport\u001b[39;00m \u001b[38;5;21;01mpickle\u001b[39;00m\n",
      "File \u001b[0;32m/Library/Frameworks/Python.framework/Versions/3.11/lib/python3.11/site-packages/codepy/toolchain.py:211\u001b[0m, in \u001b[0;36mGCCLikeToolchain.build_extension\u001b[0;34m(self, ext_file, source_files, debug)\u001b[0m\n\u001b[1;32m    208\u001b[0m \u001b[38;5;28;01mimport\u001b[39;00m \u001b[38;5;21;01msys\u001b[39;00m\n\u001b[1;32m    209\u001b[0m \u001b[38;5;28mprint\u001b[39m(\u001b[38;5;124m\"\u001b[39m\u001b[38;5;124mFAILED compiler invocation: \u001b[39m\u001b[38;5;132;01m{}\u001b[39;00m\u001b[38;5;124m\"\u001b[39m\u001b[38;5;241m.\u001b[39mformat(\u001b[38;5;124m\"\u001b[39m\u001b[38;5;124m \u001b[39m\u001b[38;5;124m\"\u001b[39m\u001b[38;5;241m.\u001b[39mjoin(cc_cmdline)),\n\u001b[1;32m    210\u001b[0m       file\u001b[38;5;241m=\u001b[39msys\u001b[38;5;241m.\u001b[39mstderr)\n\u001b[0;32m--> 211\u001b[0m \u001b[38;5;28;01mraise\u001b[39;00m CompileError(\u001b[38;5;124m\"\u001b[39m\u001b[38;5;124mmodule compilation failed\u001b[39m\u001b[38;5;124m\"\u001b[39m)\n",
      "\u001b[0;31mCompileError\u001b[0m: module compilation failed"
     ]
    }
   ],
   "source": [
    "X = generate_interrogators_dataset(train)"
   ]
  },
  {
   "cell_type": "code",
   "execution_count": 5,
   "id": "98b0e44c-97ea-4a3f-be4f-59e0d97f62af",
   "metadata": {},
   "outputs": [],
   "source": [
    "np.save(base_train+\"_interrogators_data.npy\", X)\n",
    "Y = np.array([train.get_epicenter(i)/(train.nx/2) for i in range(train.size)])\n",
    "np.save(base_train+\"_epicenters.npy\", Y)"
   ]
  },
  {
   "cell_type": "code",
   "execution_count": 6,
   "id": "82b772e9-df38-4c31-a9f8-8b0ca0a05fa0",
   "metadata": {},
   "outputs": [],
   "source": [
    "base_test = \"../../local/datasets/AWD/test2D_2\"\n",
    "N = 200\n",
    "nx = 32\n",
    "test = VectorAcousticWaveDataset2D(N, nx=nx, interrogators=interrogators, velocity_model=\"Marmousi\")\n",
    "test.save(base_test)"
   ]
  },
  {
   "cell_type": "code",
   "execution_count": 7,
   "id": "740d142d-6efa-4631-8c4c-ba9505b15f51",
   "metadata": {},
   "outputs": [
    {
     "data": {
      "application/vnd.jupyter.widget-view+json": {
       "model_id": "86998488b3e4453bba00e2ac4496d9d5",
       "version_major": 2,
       "version_minor": 0
      },
      "text/plain": [
       "  0%|          | 0/200 [00:00<?, ?it/s]"
      ]
     },
     "metadata": {},
     "output_type": "display_data"
    }
   ],
   "source": [
    "X_test = generate_interrogators_dataset(test)\n",
    "np.save(base_test+\"_interrogators_data.npy\", X_test)"
   ]
  },
  {
   "cell_type": "code",
   "execution_count": 8,
   "id": "30ceb3be-d0c5-43dc-8768-8fe761e2364e",
   "metadata": {},
   "outputs": [],
   "source": [
    "Y_test = np.array([test.get_epicenter(i)/(test.nx/2) for i in range(test.size)])\n",
    "np.save(base_test+\"_epicenters.npy\", Y_test)"
   ]
  },
  {
   "cell_type": "code",
   "execution_count": null,
   "id": "5b04ccb0-d383-48db-90d7-0567910cafe5",
   "metadata": {},
   "outputs": [],
   "source": []
  }
 ],
 "metadata": {
  "kernelspec": {
   "display_name": "Python 3 (ipykernel)",
   "language": "python",
   "name": "python3"
  },
  "language_info": {
   "codemirror_mode": {
    "name": "ipython",
    "version": 3
   },
   "file_extension": ".py",
   "mimetype": "text/x-python",
   "name": "python",
   "nbconvert_exporter": "python",
   "pygments_lexer": "ipython3",
   "version": "3.11.6"
  }
 },
 "nbformat": 4,
 "nbformat_minor": 5
}
