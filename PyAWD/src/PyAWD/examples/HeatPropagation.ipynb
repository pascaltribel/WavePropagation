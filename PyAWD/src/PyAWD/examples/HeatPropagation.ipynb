{
 "cells": [
  {
   "cell_type": "markdown",
   "id": "91bb1c72-19ad-4c9c-b197-ee62455a3f20",
   "metadata": {},
   "source": [
    "# Heat propagation in a composite 2D field\n",
    "## Libraries import"
   ]
  },
  {
   "cell_type": "code",
   "execution_count": 1,
   "id": "230038cb-6fae-4ee1-b783-4c3815a15637",
   "metadata": {},
   "outputs": [],
   "source": [
    "import numpy as np\n",
    "from devito import *\n",
    "import matplotlib.pyplot as plt\n",
    "from PyAWD.GenerateVideo import generate_video"
   ]
  },
  {
   "cell_type": "markdown",
   "id": "38997b0a-4259-42f1-a819-e3d4b7b38605",
   "metadata": {},
   "source": [
    "## Parameters:\n",
    "- $nx$ the number of points in the meshgrid side\n",
    "- $dt$ the interval to compute the steps in the simulation\n",
    "- $seconds$ the number of seconds of the simulationù"
   ]
  },
  {
   "cell_type": "code",
   "execution_count": 2,
   "id": "548de9de-a9b8-4490-8e20-fc81f5083d7a",
   "metadata": {},
   "outputs": [],
   "source": [
    "nx = 64\n",
    "dt = 0.01*(1/32)\n",
    "seconds = 10\n",
    "nt = int(seconds/dt)\n",
    "\n",
    "grid = Grid(shape=(nx, nx), extent=(1., 1.))"
   ]
  },
  {
   "cell_type": "markdown",
   "id": "28e6f011-ee41-4393-8107-9be4667cf3fa",
   "metadata": {},
   "source": [
    "## Initial condition\n",
    "We start from a circle heat distribution centered in the field. $\\rho$ is the heat propagation coefficient. Since it is variable across the field, it is represented as a function $\\rho(x, y)$."
   ]
  },
  {
   "cell_type": "code",
   "execution_count": 3,
   "id": "329f31e1-0150-4af9-bad4-342a45e6aa26",
   "metadata": {},
   "outputs": [],
   "source": [
    "u = TimeFunction(name='u', grid=grid, space_order=2, save=nt, time_order=2)\n",
    "rho = Function(name='rho', grid=grid)\n",
    "rho.data[:nx//2, :nx//2] = 0.005\n",
    "rho.data[:nx//2:, nx//2:] = 0.01\n",
    "\n",
    "rho.data[nx//2:, :nx//2] = 0.02\n",
    "rho.data[nx//2:, nx//2:] = 0.015\n",
    "\n",
    "x, y = np.ogrid[:nx, :nx]\n",
    "distance_from_center = np.sqrt((x - nx/2)**2 + (y - nx/2)**2)\n",
    "circle = distance_from_center <= nx//6\n",
    "\n",
    "u.data[0][circle] = 0.01"
   ]
  },
  {
   "cell_type": "code",
   "execution_count": 4,
   "id": "35819714-86ae-4e44-bd20-88a8814c3799",
   "metadata": {},
   "outputs": [
    {
     "data": {
      "image/png": "[encoded data removed]",
      "text/plain": [
       "<Figure size 640x480 with 2 Axes>"
      ]
     },
     "metadata": {},
     "output_type": "display_data"
    }
   ],
   "source": [
    "fig, ax0 = plt.subplots(1, 2)\n",
    "ax0[0].imshow(u.data[0], vmin=np.min(u.data), vmax=np.max(u.data), cmap=\"hot\")\n",
    "ax0[0].set_title(\"Initial heat distribution\")\n",
    "ax0[1].imshow(rho.data, vmin=np.min(rho.data), vmax=np.max(rho.data), cmap=\"viridis\")\n",
    "ax0[1].set_title(r\"$\\rho$ Heat propagation coefficient\")\n",
    "plt.show()"
   ]
  },
  {
   "cell_type": "markdown",
   "id": "56a14562-9570-42c2-b96d-4ec9183fac62",
   "metadata": {},
   "source": [
    "## Equation\n",
    "The PDE we want to solve is \n",
    "$$\\frac{du}{dt} = \\rho (\\frac{d^2u}{dx^2}+\\frac{d^2u}{dy^2})$$"
   ]
  },
  {
   "cell_type": "code",
   "execution_count": 5,
   "id": "b07f0c98-c151-4049-9119-1572ca7edea0",
   "metadata": {},
   "outputs": [],
   "source": [
    "eq = Eq(u.dt, rho*(u.dx2+u.dy2))\n",
    "stencil = solve(eq, u.forward)"
   ]
  },
  {
   "cell_type": "markdown",
   "id": "ba2f150b-da6b-4ce8-adcd-d6631163c763",
   "metadata": {},
   "source": [
    "Which yields the following solution for $u(x, y, t+dt)$:"
   ]
  },
  {
   "cell_type": "code",
   "execution_count": 6,
   "id": "1159bab2-085d-424d-ba15-e49f36319aa2",
   "metadata": {},
   "outputs": [
    {
     "data": {
      "text/latex": [
       "$\\displaystyle dt \\left(\\left(\\frac{\\partial^{2}}{\\partial x^{2}} u(time, x, y) + \\frac{\\partial^{2}}{\\partial y^{2}} u(time, x, y)\\right) rho(x, y) + \\frac{u(time, x, y)}{dt}\\right)$"
      ],
      "text/plain": [
       "dt*((Derivative(u(time, x, y), (x, 2)) + Derivative(u(time, x, y), (y, 2)))*rho(x, y) + u(time, x, y)/dt)"
      ]
     },
     "execution_count": 6,
     "metadata": {},
     "output_type": "execute_result"
    }
   ],
   "source": [
    "stencil"
   ]
  },
  {
   "cell_type": "markdown",
   "id": "d949f64b-a2c6-4a60-8849-4e40e32845be",
   "metadata": {},
   "source": [
    "We build an operator that binds $u(x, y, t+dt)$ with this solution:"
   ]
  },
  {
   "cell_type": "code",
   "execution_count": 7,
   "id": "f73091c8-820e-48c8-a11d-a25617e1d29a",
   "metadata": {},
   "outputs": [],
   "source": [
    "op = Operator(Eq(u.forward, stencil), opt='noop')"
   ]
  },
  {
   "cell_type": "markdown",
   "id": "79742b12-61db-4669-8333-77677a3eb621",
   "metadata": {},
   "source": [
    "We apply the numerical solver:"
   ]
  },
  {
   "cell_type": "code",
   "execution_count": 8,
   "id": "ccbdeb3c-eb39-42de-9d8b-07c6553a7d1b",
   "metadata": {},
   "outputs": [
    {
     "name": "stderr",
     "output_type": "stream",
     "text": [
      "Operator `Kernel` ran in 0.14 s\n"
     ]
    },
    {
     "data": {
      "text/plain": [
       "PerformanceSummary([(PerfKey(name='section0', rank=None),\n",
       "                     PerfEntry(time=0.1319240000000571, gflopss=0.0, gpointss=0.0, oi=0.0, ops=0, itershapes=[]))])"
      ]
     },
     "execution_count": 8,
     "metadata": {},
     "output_type": "execute_result"
    }
   ],
   "source": [
    "op.apply(dt=dt)"
   ]
  },
  {
   "cell_type": "markdown",
   "id": "eba41e1c-b685-4a9a-9db8-12b2e24bcea2",
   "metadata": {},
   "source": [
    "## Solutions\n",
    "We plot the evolution through time for the initial condition:"
   ]
  },
  {
   "cell_type": "code",
   "execution_count": 9,
   "id": "ba72aab7-aa53-45f2-b277-0b3a4c3b0452",
   "metadata": {},
   "outputs": [
    {
     "data": {
      "image/png": "[encoded data removed]",
      "text/plain": [
       "<Figure size 1500x300 with 5 Axes>"
      ]
     },
     "metadata": {},
     "output_type": "display_data"
    }
   ],
   "source": [
    "num_examples = 5\n",
    "fig, ax = plt.subplots(1, num_examples, figsize=(15, 3))\n",
    "for i in range(num_examples):\n",
    "    ax[i].imshow(u.data[i*(u.data.shape[0]//num_examples)], vmin=np.min(u.data), vmax=np.max(u.data), cmap=\"hot\")\n",
    "    ax[i].set_title(\"t = \" + str(i*(u.data.shape[0]//num_examples)*dt) + \"s\")\n",
    "plt.show()"
   ]
  },
  {
   "cell_type": "markdown",
   "id": "5aaabd71-f769-4900-b261-76bc20febbe9",
   "metadata": {},
   "source": [
    "The solution can also be visualised through a video:"
   ]
  },
  {
   "cell_type": "code",
   "execution_count": 11,
   "id": "0fa38dd7-dee4-4614-b055-3a2849346c3f",
   "metadata": {},
   "outputs": [
    {
     "data": {
      "application/vnd.jupyter.widget-view+json": {
       "model_id": "62dbc17a7d8249c5b6908dc0e860b8d0",
       "version_major": 2,
       "version_minor": 0
      },
      "text/plain": [
       "  0%|          | 0/320 [00:00<?, ?it/s]"
      ]
     },
     "metadata": {},
     "output_type": "display_data"
    }
   ],
   "source": [
    "generate_video(u.data[::100], \"heat_example\", dt=dt*100)"
   ]
  },
  {
   "cell_type": "code",
   "execution_count": 12,
   "id": "497f256b-c1f8-47b3-aac2-46138dc707fd",
   "metadata": {},
   "outputs": [
    {
     "data": {
      "text/html": [
       "<video width=\"640\" controls>\n",
       "  <source src=\"heat_example.mp4\" type=\"video/mp4\">\n",
       "</video>\n"
      ],
      "text/plain": [
       "<IPython.core.display.HTML object>"
      ]
     },
     "metadata": {},
     "output_type": "display_data"
    }
   ],
   "source": [
    "%%HTML\n",
    "<video width=\"640\" controls>\n",
    "  <source src=\"heat_example.mp4\" type=\"video/mp4\">\n",
    "</video>"
   ]
  },
  {
   "cell_type": "markdown",
   "id": "72e794a0-ceab-4f47-95a7-7755e1a1db45",
   "metadata": {},
   "source": [
    "## Sources\n",
    "- https://arxiv.org/pdf/2006.11894.pdf"
   ]
  },
  {
   "cell_type": "code",
   "execution_count": null,
   "id": "1572afe5-53d0-46af-b49b-7b2e77ae20b4",
   "metadata": {},
   "outputs": [],
   "source": []
  }
 ],
 "metadata": {
  "kernelspec": {
   "display_name": "Python 3 (ipykernel)",
   "language": "python",
   "name": "python3"
  },
  "language_info": {
   "codemirror_mode": {
    "name": "ipython",
    "version": 3
   },
   "file_extension": ".py",
   "mimetype": "text/x-python",
   "name": "python",
   "nbconvert_exporter": "python",
   "pygments_lexer": "ipython3",
   "version": "3.11.6"
  }
 },
 "nbformat": 4,
 "nbformat_minor": 5
}
